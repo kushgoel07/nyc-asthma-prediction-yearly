{
  "nbformat": 4,
  "nbformat_minor": 0,
  "metadata": {
    "colab": {
      "name": "Linear Regression Model.ipynb",
      "provenance": []
    },
    "kernelspec": {
      "name": "python3",
      "display_name": "Python 3"
    },
    "language_info": {
      "name": "python"
    }
  },
  "cells": [
    {
      "cell_type": "code",
      "execution_count": null,
      "metadata": {
        "id": "CCByoFLnSdEE"
      },
      "outputs": [],
      "source": [
        "import numpy as np\n",
        "import pandas as pd\n",
        "import tensorflow as tf\n",
        "from matplotlib import pyplot as plt\n"
      ]
    },
    {
      "cell_type": "code",
      "source": [
        "training_df = pd.read_csv(filepath_or_buffer= \"AverageAirQuality.xlsx)"
      ],
      "metadata": {
        "id": "vMXjrWvCS4Za"
      },
      "execution_count": null,
      "outputs": []
    },
    {
      "cell_type": "code",
      "source": [
        "training_df[\"my_synthentic_feature\"] = training_df['Attack']/training_df['Defense']"
      ],
      "metadata": {
        "id": "RV9cVtrBS6nb"
      },
      "execution_count": null,
      "outputs": []
    },
    {
      "cell_type": "code",
      "source": [
        "training_df.head()"
      ],
      "metadata": {
        "id": "ef6_kqSkS8VR"
      },
      "execution_count": null,
      "outputs": []
    },
    {
      "cell_type": "code",
      "source": [
        "training_df.describe()"
      ],
      "metadata": {
        "id": "mvKiYaXuS9ma"
      },
      "execution_count": null,
      "outputs": []
    },
    {
      "cell_type": "code",
      "source": [
        "def build_model(learning_rate):\n",
        "  model = tf.keras.models.Sequential()\n",
        "  model.add(tf.keras.layers.Dense(units=1, input_shape=(1,)))\n",
        "  model.compile(optimizer=tf.keras.optimizers.RMSprop(learning_rate=learning_rate), loss='mean_squared_error', metrics=[tf.keras.metrics.RootMeanSquaredError()])\n",
        "  return model"
      ],
      "metadata": {
        "id": "cunrOJGAS-qy"
      },
      "execution_count": null,
      "outputs": []
    },
    {
      "cell_type": "code",
      "source": [
        "def train_model(model, df, feature, label, epochs, batch_size):\n",
        "  history = model.fit(x=df[feature], y=df[label], batch_size=batch_size, epochs=epochs)\n",
        "\n",
        "  epochs = history.epoch\n",
        "  hist = pd.DataFrame(history.history)\n",
        "\n",
        "  train_weight = model.get_weights()[0]\n",
        "  train_bias = model.get_weights()[1]\n",
        "\n",
        "  rmse = hist['root_mean_squared_error']\n",
        "\n",
        "  return train_weight, train_bias, epochs, rmse"
      ],
      "metadata": {
        "id": "SRoov3tnS_yy"
      },
      "execution_count": null,
      "outputs": []
    },
    {
      "cell_type": "code",
      "source": [
        "learning_rate = 0.05\n",
        "epochs = 50\n",
        "batch_size = 15"
      ],
      "metadata": {
        "id": "BUCWIREBTA4r"
      },
      "execution_count": null,
      "outputs": []
    },
    {
      "cell_type": "code",
      "source": [
        "feature = 'Defense'\n",
        "label = 'HP'"
      ],
      "metadata": {
        "id": "Uj3fTXMHTK4a"
      },
      "execution_count": null,
      "outputs": []
    },
    {
      "cell_type": "code",
      "source": [
        "my_model = None\n",
        "my_model = build_model(learning_rate)\n",
        "weight, bias, epochs, rmse = train_model(my_model, training_df, feature, label, epochs, batch_size)"
      ],
      "metadata": {
        "id": "tq5I_SOPTMAZ"
      },
      "execution_count": null,
      "outputs": []
    },
    {
      "cell_type": "code",
      "source": [
        "def plot_loss(epochs, rmse):\n",
        "  plt.figure()\n",
        "  plt.xlabel('Epochs')\n",
        "  plt.ylabel('RMSE')\n",
        "\n",
        "  plt.plot(epochs, rmse, label='Loss')\n",
        "  plt.show()\n",
        "\n",
        "plot_loss(epochs, rmse)"
      ],
      "metadata": {
        "id": "LObDt_4MTPNx"
      },
      "execution_count": null,
      "outputs": []
    }
  ]
}